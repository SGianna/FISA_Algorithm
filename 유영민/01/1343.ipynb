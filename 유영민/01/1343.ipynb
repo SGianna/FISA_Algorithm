{
 "cells": [
  {
   "cell_type": "code",
   "execution_count": null,
   "metadata": {},
   "outputs": [],
   "source": [
    "import re\n",
    "\n",
    "user_input = input()\n",
    "answer = \"\"\n",
    "\n",
    "poly = [\"AAAA\", \"BB\"]\n",
    "\n",
    "xSplit = re.split(r'(\\.+|\\b)', user_input)\n",
    "xSplit = [i for i in xSplit if i != '']\n",
    "\n",
    "for i in range(len(xSplit)):\n",
    "    xlen = len(xSplit[i])\n",
    "\n",
    "    if \".\" in xSplit[i]:\n",
    "        for _ in range(xlen):\n",
    "            answer += \".\"\n",
    "    \n",
    "    else :\n",
    "        if xlen % 2 != 0 :\n",
    "            print(-1)\n",
    "            break\n",
    "\n",
    "        cnt = xlen // 4\n",
    "        for _ in range(cnt) :\n",
    "            answer += poly[0]\n",
    "        if xlen % 4 == 2 :\n",
    "            answer += poly[1]\n",
    "            \n",
    "else :\n",
    "    if answer :\n",
    "        print(answer)"
   ]
  }
 ],
 "metadata": {
  "kernelspec": {
   "display_name": "Python 3",
   "language": "python",
   "name": "python3"
  },
  "language_info": {
   "codemirror_mode": {
    "name": "ipython",
    "version": 3
   },
   "file_extension": ".py",
   "mimetype": "text/x-python",
   "name": "python",
   "nbconvert_exporter": "python",
   "pygments_lexer": "ipython3",
   "version": "3.11.1"
  },
  "orig_nbformat": 4
 },
 "nbformat": 4,
 "nbformat_minor": 2
}
