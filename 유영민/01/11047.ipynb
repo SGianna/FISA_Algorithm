{
 "cells": [
  {
   "cell_type": "code",
   "execution_count": null,
   "metadata": {},
   "outputs": [],
   "source": [
    "from sys import stdin as s\n",
    "\n",
    "s = open(\"11047.txt\", \"rt\")\n",
    "\n",
    "N = []\n",
    "for line in s.readlines():\n",
    "    numbers = line.strip().split()\n",
    "    for num in numbers:\n",
    "        N.append(int(num))"
   ]
  },
  {
   "attachments": {},
   "cell_type": "markdown",
   "metadata": {},
   "source": [
    "N 리스트는 입력을 받아온다.\n",
    "N[0]에는 몇 종류의 동전을 사용할지에 대한 정보가 있다\n",
    "N[1]에는 해당 종류의 동전을 사용하여 만들어줄 금액\n",
    "N[2]부터는 동전의 종류 가지수에 맞게 오름차순으로 1,5,10,50,100,500 ... 순으로 나타난다\n",
    "\n",
    "금액을 먼저 확인하고, 그 금액보다는 작은 동전을 선택하여 몇 개를 넣을지 확인!\n",
    "다시 남은 금액에서 그 금액보다는 작은 동전을 선택하여 몇 개를 넣을지 확인! -> 반복"
   ]
  },
  {
   "cell_type": "code",
   "execution_count": null,
   "metadata": {},
   "outputs": [],
   "source": [
    "answer = 0\n",
    "K = N[1]\n",
    "for i in range(1, N[0]+1):\n",
    "    if K > N[-i]:\n",
    "        answer += K // N[-i]\n",
    "        K = K - N[-i] * (K // N[-i])\n",
    "print(answer)"
   ]
  }
 ],
 "metadata": {
  "kernelspec": {
   "display_name": "Python 3",
   "language": "python",
   "name": "python3"
  },
  "language_info": {
   "codemirror_mode": {
    "name": "ipython",
    "version": 3
   },
   "file_extension": ".py",
   "mimetype": "text/x-python",
   "name": "python",
   "nbconvert_exporter": "python",
   "pygments_lexer": "ipython3",
   "version": "3.11.1"
  },
  "orig_nbformat": 4
 },
 "nbformat": 4,
 "nbformat_minor": 2
}
